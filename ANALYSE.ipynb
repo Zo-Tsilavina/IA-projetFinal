{
 "cells": [
  {
   "cell_type": "code",
   "execution_count": 1,
   "metadata": {},
   "outputs": [],
   "source": [
    "import pandas as pd\n",
    "\n",
    "#read csv\n",
    "air_pollution =df = pd.read_csv(\"air_pollution.csv\")\n",
    "demographic_data =df = pd.read_csv(\"Demographic_Data.csv\")\n",
    "geographic_data =df = pd.read_csv(\"Geographic_Data.csv\")"
   ]
  },
  {
   "cell_type": "code",
   "execution_count": 8,
   "metadata": {},
   "outputs": [
    {
     "name": "stdout",
     "output_type": "stream",
     "text": [
      "Valeurs manquantes dans air_pollution :\\Country               1.819887\n",
      "City                  0.000000\n",
      "AQI Value             0.000000\n",
      "AQI Category          0.000000\n",
      "CO AQI Value          0.000000\n",
      "CO AQI Category       0.000000\n",
      "Ozone AQI Value       0.000000\n",
      "Ozone AQI Category    0.000000\n",
      "NO2 AQI Value         0.000000\n",
      "NO2 AQI Category      0.000000\n",
      "PM2.5 AQI Value       0.000000\n",
      "PM2.5 AQI Category    0.000000\n",
      "newCountry            0.000000\n",
      "dtype: float64\n",
      "\n",
      "Valeurs manquantes dans demographic_data :\\Location                                         0.0\n",
      "Population                                       0.0\n",
      "Density (people/km²)                             0.0\n",
      "Urbanization (%)                                 0.0\n",
      "Average Income (USD)                             0.0\n",
      "Education Level (% with Bachelor's or higher)    0.0\n",
      "dtype: float64\n",
      "\n",
      "Valeurs manquantes dans geographic_data :\\Location                      0.0\n",
      "Altitude (m)                  0.0\n",
      "Proximity to Industry (km)    0.0\n",
      "dtype: float64\n",
      "\n"
     ]
    },
    {
     "name": "stderr",
     "output_type": "stream",
     "text": [
      "<string>:6: SyntaxWarning: invalid escape sequence '\\{'\n",
      "<>:6: SyntaxWarning: invalid escape sequence '\\{'\n",
      "<string>:6: SyntaxWarning: invalid escape sequence '\\{'\n",
      "<>:6: SyntaxWarning: invalid escape sequence '\\{'\n",
      "C:\\Users\\aQSUS\\AppData\\Local\\Temp\\ipykernel_4456\\2760028659.py:6: SyntaxWarning: invalid escape sequence '\\{'\n",
      "  print(f'Valeurs manquantes dans {name} :\\{missing_percentage}\\n')\n"
     ]
    }
   ],
   "source": [
    "#Verification des valeurs manquantes\n",
    "def check_missing_values (df, name):\n",
    "     missing_values = df.isnull().sum()\n",
    "     total_values = df.shape[0]\n",
    "     missing_percentage = (missing_values / total_values) * 100\n",
    "     print(f'Valeurs manquantes dans {name} :\\{missing_percentage}\\n')\n",
    "\n",
    "check_missing_values(air_pollution, 'air_pollution')\n",
    "check_missing_values(demographic_data, 'demographic_data')\n",
    "check_missing_values(geographic_data, 'geographic_data')"
   ]
  },
  {
   "cell_type": "code",
   "execution_count": 9,
   "metadata": {},
   "outputs": [
    {
     "name": "stdout",
     "output_type": "stream",
     "text": [
      "Doublons dans air_pollution : 0\n",
      "Doublons dans demographic_data : 0\n",
      "Doublons dans geographic_data : 0\n"
     ]
    }
   ],
   "source": [
    "#Verification des doublons\n",
    "def check_duplicates(df, name):\n",
    "     duplicates = df.duplicated().sum()\n",
    "     print(f'Doublons dans {name} : {duplicates}')\n",
    "\n",
    "check_duplicates(air_pollution, 'air_pollution')\n",
    "check_duplicates(demographic_data, 'demographic_data')\n",
    "check_duplicates(geographic_data, 'geographic_data')"
   ]
  },
  {
   "cell_type": "code",
   "execution_count": null,
   "metadata": {},
   "outputs": [],
   "source": [
    "import pandas as pd\n",
    "air_pollution =df = pd.read_csv(\"air_pollution.csv\")\n",
    "demographic_data = {\n",
    "    \"City\": [\"Los Angeles\", \"Paris\", \"Tokyo\", \"Antananarivo\", \"Nairobi\", \"Lima\"],\n",
    "    \"Country\": [\"USA\", \"France\", \"Japan\", \"Madagascar\", \"Kenya\", \"Peru\"],\n",
    "    \"Population\": [10039107, 2140526, 13929286, 1391433, 4397073, 9674755],\n",
    "    \"Density\": [3276, 21383, 6169, 3097, 6000, 3220],  # people/km²\n",
    "    \"Urbanization\": [89, 98, 100, 69, 61, 81],  # in percentage\n",
    "    \"Average Income\": [60000, 45000, 55000, 1000, 1500, 4500],  # in USD\n",
    "    \"Education Level\": [32, 29, 37, 10, 12, 15]  # % with Bachelor's or higher\n",
    "}\n",
    "demographic_df = pd.DataFrame(demographic_data)\n",
    "combined_df = pd.merge(air_pollution, demographic_df, on=\"City\")\n",
    "print(combined_df.head())\n",
    "combined_df.to_csv(\"combined_data.csv\", index=False)"
   ]
  }
 ],
 "metadata": {
  "kernelspec": {
   "display_name": "Python 3",
   "language": "python",
   "name": "python3"
  },
  "language_info": {
   "codemirror_mode": {
    "name": "ipython",
    "version": 3
   },
   "file_extension": ".py",
   "mimetype": "text/x-python",
   "name": "python",
   "nbconvert_exporter": "python",
   "pygments_lexer": "ipython3",
   "version": "3.12.0"
  }
 },
 "nbformat": 4,
 "nbformat_minor": 2
}
